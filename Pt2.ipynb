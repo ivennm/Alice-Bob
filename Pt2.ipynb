{
 "cells": [
  {
   "cell_type": "code",
   "execution_count": 1,
   "id": "f75fe10f-ff9e-4e3a-93ed-91766c024ec3",
   "metadata": {},
   "outputs": [
    {
     "name": "stdout",
     "output_type": "stream",
     "text": [
      "Requirement already satisfied: numpy in /opt/conda/lib/python3.11/site-packages (2.2.4)\n",
      "Requirement already satisfied: matplotlib in /opt/conda/lib/python3.11/site-packages (3.10.1)\n",
      "Requirement already satisfied: scipy in /opt/.qbraid/environments/qbraid_000000/pyenv/lib/python3.11/site-packages (1.15.2)\n",
      "Requirement already satisfied: qutip in /opt/.qbraid/environments/qbraid_000000/pyenv/lib/python3.11/site-packages (5.1.1)\n",
      "Requirement already satisfied: contourpy>=1.0.1 in /opt/conda/lib/python3.11/site-packages (from matplotlib) (1.3.1)\n",
      "Requirement already satisfied: cycler>=0.10 in /opt/conda/lib/python3.11/site-packages (from matplotlib) (0.12.1)\n",
      "Requirement already satisfied: fonttools>=4.22.0 in /opt/conda/lib/python3.11/site-packages (from matplotlib) (4.57.0)\n",
      "Requirement already satisfied: kiwisolver>=1.3.1 in /opt/conda/lib/python3.11/site-packages (from matplotlib) (1.4.8)\n",
      "Requirement already satisfied: packaging>=20.0 in /opt/conda/lib/python3.11/site-packages (from matplotlib) (24.0)\n",
      "Requirement already satisfied: pillow>=8 in /opt/conda/lib/python3.11/site-packages (from matplotlib) (11.1.0)\n",
      "Requirement already satisfied: pyparsing>=2.3.1 in /opt/conda/lib/python3.11/site-packages (from matplotlib) (3.2.3)\n",
      "Requirement already satisfied: python-dateutil>=2.7 in /opt/conda/lib/python3.11/site-packages (from matplotlib) (2.9.0)\n",
      "Requirement already satisfied: six>=1.5 in /opt/conda/lib/python3.11/site-packages (from python-dateutil>=2.7->matplotlib) (1.16.0)\n",
      "Note: you may need to restart the kernel to use updated packages.\n"
     ]
    }
   ],
   "source": [
    "pip install numpy matplotlib scipy qutip"
   ]
  },
  {
   "cell_type": "code",
   "execution_count": 7,
   "id": "871ff0fa-1e0e-433c-ae5c-35eef0ca1fa6",
   "metadata": {},
   "outputs": [
    {
     "name": "stdout",
     "output_type": "stream",
     "text": [
      "Type of loaded_data: <class 'tuple'>\n",
      "Element 0 type: <class 'jaxlib.xla_extension.ArrayImpl'>, shape: (1000,)\n",
      "Element 1 type: <class 'jaxlib.xla_extension.ArrayImpl'>, shape: (1000,)\n",
      "Element 2 type: <class 'numpy.ndarray'>, shape: (1000, 1000)\n",
      "W_noisy shape before reshape: (1000,)\n",
      "W_noisy already has dimension: (1000,)\n"
     ]
    },
    {
     "ename": "IndexError",
     "evalue": "tuple index out of range",
     "output_type": "error",
     "traceback": [
      "\u001b[0;31m---------------------------------------------------------------------------\u001b[0m",
      "\u001b[0;31mIndexError\u001b[0m                                Traceback (most recent call last)",
      "Cell \u001b[0;32mIn[7], line 40\u001b[0m\n\u001b[1;32m     36\u001b[0m \u001b[38;5;66;03m# ---------------------------\u001b[39;00m\n\u001b[1;32m     37\u001b[0m \u001b[38;5;66;03m# Setup the Phase-Space Grid\u001b[39;00m\n\u001b[1;32m     38\u001b[0m \u001b[38;5;66;03m# ---------------------------\u001b[39;00m\n\u001b[1;32m     39\u001b[0m x \u001b[38;5;241m=\u001b[39m np\u001b[38;5;241m.\u001b[39mlinspace(\u001b[38;5;241m-\u001b[39m\u001b[38;5;241m5\u001b[39m, \u001b[38;5;241m5\u001b[39m, W_noisy\u001b[38;5;241m.\u001b[39mshape[\u001b[38;5;241m0\u001b[39m])\n\u001b[0;32m---> 40\u001b[0m y \u001b[38;5;241m=\u001b[39m np\u001b[38;5;241m.\u001b[39mlinspace(\u001b[38;5;241m-\u001b[39m\u001b[38;5;241m5\u001b[39m, \u001b[38;5;241m5\u001b[39m, \u001b[43mW_noisy\u001b[49m\u001b[38;5;241;43m.\u001b[39;49m\u001b[43mshape\u001b[49m\u001b[43m[\u001b[49m\u001b[38;5;241;43m1\u001b[39;49m\u001b[43m]\u001b[49m)\n\u001b[1;32m     41\u001b[0m dx \u001b[38;5;241m=\u001b[39m x[\u001b[38;5;241m1\u001b[39m] \u001b[38;5;241m-\u001b[39m x[\u001b[38;5;241m0\u001b[39m]\n\u001b[1;32m     42\u001b[0m dy \u001b[38;5;241m=\u001b[39m y[\u001b[38;5;241m1\u001b[39m] \u001b[38;5;241m-\u001b[39m y[\u001b[38;5;241m0\u001b[39m]\n",
      "\u001b[0;31mIndexError\u001b[0m: tuple index out of range"
     ]
    }
   ],
   "source": [
    "import numpy as np\n",
    "import matplotlib.pyplot as plt\n",
    "from scipy.ndimage import gaussian_filter\n",
    "import pickle\n",
    "\n",
    "# ---------------------------\n",
    "# Load the noisy Wigner function\n",
    "# ---------------------------\n",
    "file_path = \"noisy_wigner_0.pickle\"  # Update if necessary\n",
    "with open(file_path, \"rb\") as f:\n",
    "    loaded_data = pickle.load(f)\n",
    "\n",
    "# Print the type of the loaded data and its structure.\n",
    "print(\"Type of loaded_data:\", type(loaded_data))\n",
    "if isinstance(loaded_data, tuple):\n",
    "    for i, item in enumerate(loaded_data):\n",
    "        print(f\"Element {i} type: {type(item)}, shape: {np.array(item).shape}\")\n",
    "    # Assume the first element holds the noisy Wigner function\n",
    "    W_noisy = np.array(loaded_data[0])\n",
    "else:\n",
    "    W_noisy = np.array(loaded_data)\n",
    "\n",
    "print(\"W_noisy shape before reshape:\", W_noisy.shape)\n",
    "\n",
    "# ---------------------------\n",
    "# Reshape if necessary (assumed to be a flattened 1D array)\n",
    "# ---------------------------\n",
    "# In this example, we expect the data to be a 500 x 500 matrix.\n",
    "expected_shape = (500, 500)\n",
    "if W_noisy.ndim == 1 and np.prod(W_noisy.shape) == np.prod(expected_shape):\n",
    "    W_noisy = W_noisy.reshape(expected_shape)\n",
    "    print(\"Reshaped W_noisy to:\", W_noisy.shape)\n",
    "else:\n",
    "    print(\"W_noisy already has dimension:\", W_noisy.shape)\n",
    "\n",
    "# ---------------------------\n",
    "# Setup the Phase-Space Grid\n",
    "# ---------------------------\n",
    "x = np.linspace(-5, 5, W_noisy.shape[0])\n",
    "y = np.linspace(-5, 5, W_noisy.shape[1])\n",
    "dx = x[1] - x[0]\n",
    "dy = y[1] - y[0]\n",
    "\n",
    "# ---------------------------\n",
    "# Plot the loaded noisy Wigner function for inspection\n",
    "# ---------------------------\n",
    "plt.figure(figsize=(6, 5))\n",
    "plt.imshow(W_noisy, extent=[x[0], x[-1], y[0], y[-1]], origin='lower', cmap='RdBu_r')\n",
    "plt.title(\"Loaded Noisy Wigner Function\")\n",
    "plt.xlabel(\"x\")\n",
    "plt.ylabel(\"p\")\n",
    "plt.colorbar()\n",
    "plt.show()\n",
    "\n",
    "# ---------------------------\n",
    "# Optional: Apply Gaussian filtering for denoising\n",
    "# ---------------------------\n",
    "sigma = 2  # Adjust sigma as needed for your data\n",
    "W_denoised = gaussian_filter(W_noisy, sigma=sigma)\n",
    "plt.figure(figsize=(6, 5))\n",
    "plt.imshow(W_denoised, extent=[x[0], x[-1], y[0], y[-1]], origin='lower', cmap='RdBu_r')\n",
    "plt.title(f\"Denoised Wigner Function (σ = {sigma})\")\n",
    "plt.xlabel(\"x\")\n",
    "plt.ylabel(\"p\")\n",
    "plt.colorbar()\n",
    "plt.show()\n"
   ]
  },
  {
   "cell_type": "code",
   "execution_count": 4,
   "id": "42e3a450-6d3d-44ca-931f-a4118cb5fda0",
   "metadata": {},
   "outputs": [
    {
     "name": "stdout",
     "output_type": "stream",
     "text": [
      "W_noisy shape: (1000,)\n"
     ]
    }
   ],
   "source": [
    "print(\"W_noisy shape:\", W_noisy.shape)\n"
   ]
  },
  {
   "cell_type": "code",
   "execution_count": 8,
   "id": "aeda97e8-8149-4ce2-b577-25197e4a739f",
   "metadata": {},
   "outputs": [
    {
     "name": "stdout",
     "output_type": "stream",
     "text": [
      "Type of loaded_data: <class 'tuple'>\n",
      "Initial W_noisy shape: (1000,)\n",
      "Total elements: 1000\n",
      "WARNING: Cannot reshape W_noisy into a square array since sqrt(total_elements) is not an integer.\n"
     ]
    },
    {
     "ename": "IndexError",
     "evalue": "tuple index out of range",
     "output_type": "error",
     "traceback": [
      "\u001b[0;31m---------------------------------------------------------------------------\u001b[0m",
      "\u001b[0;31mIndexError\u001b[0m                                Traceback (most recent call last)",
      "Cell \u001b[0;32mIn[8], line 33\u001b[0m\n\u001b[1;32m     31\u001b[0m \u001b[38;5;66;03m# Now you can set up the phase-space grid\u001b[39;00m\n\u001b[1;32m     32\u001b[0m x \u001b[38;5;241m=\u001b[39m np\u001b[38;5;241m.\u001b[39mlinspace(\u001b[38;5;241m-\u001b[39m\u001b[38;5;241m5\u001b[39m, \u001b[38;5;241m5\u001b[39m, W_noisy\u001b[38;5;241m.\u001b[39mshape[\u001b[38;5;241m0\u001b[39m])\n\u001b[0;32m---> 33\u001b[0m y \u001b[38;5;241m=\u001b[39m np\u001b[38;5;241m.\u001b[39mlinspace(\u001b[38;5;241m-\u001b[39m\u001b[38;5;241m5\u001b[39m, \u001b[38;5;241m5\u001b[39m, \u001b[43mW_noisy\u001b[49m\u001b[38;5;241;43m.\u001b[39;49m\u001b[43mshape\u001b[49m\u001b[43m[\u001b[49m\u001b[38;5;241;43m1\u001b[39;49m\u001b[43m]\u001b[49m)\n\u001b[1;32m     34\u001b[0m \u001b[38;5;28mprint\u001b[39m(\u001b[38;5;124m\"\u001b[39m\u001b[38;5;124mPhase-space grid dimensions:\u001b[39m\u001b[38;5;124m\"\u001b[39m, W_noisy\u001b[38;5;241m.\u001b[39mshape)\n\u001b[1;32m     36\u001b[0m \u001b[38;5;66;03m# Continue with your analysis...\u001b[39;00m\n",
      "\u001b[0;31mIndexError\u001b[0m: tuple index out of range"
     ]
    }
   ],
   "source": [
    "import numpy as np\n",
    "import pickle\n",
    "\n",
    "file_path = \"noisy_wigner_0.pickle\"\n",
    "with open(file_path, \"rb\") as f:\n",
    "    loaded_data = pickle.load(f)\n",
    "\n",
    "# Inspect the loaded data\n",
    "print(\"Type of loaded_data:\", type(loaded_data))\n",
    "# If it's a tuple, choose the element that holds the Wigner function.\n",
    "if isinstance(loaded_data, tuple):\n",
    "    # For example, if the first element is your noisy Wigner function:\n",
    "    W_noisy = np.array(loaded_data[0])\n",
    "else:\n",
    "    W_noisy = np.array(loaded_data)\n",
    "\n",
    "print(\"Initial W_noisy shape:\", W_noisy.shape)\n",
    "\n",
    "# If the data is one-dimensional, try to reshape it.\n",
    "if W_noisy.ndim == 1:\n",
    "    total_elements = W_noisy.size\n",
    "    print(\"Total elements:\", total_elements)\n",
    "    # Try to infer dimension from the total number of elements.\n",
    "    possible_dim = int(np.sqrt(total_elements))\n",
    "    if possible_dim * possible_dim == total_elements:\n",
    "        W_noisy = W_noisy.reshape((possible_dim, possible_dim))\n",
    "        print(\"Reshaped W_noisy to:\", W_noisy.shape)\n",
    "    else:\n",
    "        print(\"WARNING: Cannot reshape W_noisy into a square array since sqrt(total_elements) is not an integer.\")\n",
    "\n",
    "# Now you can set up the phase-space grid\n",
    "x = np.linspace(-5, 5, W_noisy.shape[0])\n",
    "y = np.linspace(-5, 5, W_noisy.shape[1])\n",
    "print(\"Phase-space grid dimensions:\", W_noisy.shape)\n",
    "\n",
    "# Continue with your analysis...\n"
   ]
  },
  {
   "cell_type": "code",
   "execution_count": 9,
   "id": "fe151ada-c246-4414-992a-2dd7969c0075",
   "metadata": {},
   "outputs": [
    {
     "name": "stdout",
     "output_type": "stream",
     "text": [
      "Total elements in W_noisy: 1000\n",
      "Warning: total elements do not match expected shape. Expected total: 250000 but got: 1000\n"
     ]
    }
   ],
   "source": [
    "# Check the number of elements\n",
    "total_elements = W_noisy.size\n",
    "print(\"Total elements in W_noisy:\", total_elements)\n",
    "\n",
    "# Define the expected dimensions, e.g., 500 x 500\n",
    "expected_shape = (500, 500)\n",
    "expected_total = np.prod(expected_shape)\n",
    "\n",
    "if total_elements == expected_total:\n",
    "    # Reshape the 1D array to a 2D array\n",
    "    W_noisy = W_noisy.reshape(expected_shape)\n",
    "    print(\"Reshaped W_noisy to:\", W_noisy.shape)\n",
    "else:\n",
    "    print(\"Warning: total elements do not match expected shape.\",\n",
    "          \"Expected total:\", expected_total, \"but got:\", total_elements)\n"
   ]
  },
  {
   "cell_type": "code",
   "execution_count": 10,
   "id": "195ce766-dc30-4bbf-84b1-b4746a72be5c",
   "metadata": {},
   "outputs": [
    {
     "ename": "TypeError",
     "evalue": "Invalid shape (1000,) for image data",
     "output_type": "error",
     "traceback": [
      "\u001b[0;31m---------------------------------------------------------------------------\u001b[0m",
      "\u001b[0;31mTypeError\u001b[0m                                 Traceback (most recent call last)",
      "Cell \u001b[0;32mIn[10], line 4\u001b[0m\n\u001b[1;32m      1\u001b[0m \u001b[38;5;28;01mimport\u001b[39;00m \u001b[38;5;21;01mmatplotlib\u001b[39;00m\u001b[38;5;21;01m.\u001b[39;00m\u001b[38;5;21;01mpyplot\u001b[39;00m \u001b[38;5;28;01mas\u001b[39;00m \u001b[38;5;21;01mplt\u001b[39;00m\n\u001b[1;32m      3\u001b[0m plt\u001b[38;5;241m.\u001b[39mfigure(figsize\u001b[38;5;241m=\u001b[39m(\u001b[38;5;241m6\u001b[39m, \u001b[38;5;241m5\u001b[39m))\n\u001b[0;32m----> 4\u001b[0m \u001b[43mplt\u001b[49m\u001b[38;5;241;43m.\u001b[39;49m\u001b[43mimshow\u001b[49m\u001b[43m(\u001b[49m\u001b[43mW_noisy\u001b[49m\u001b[43m,\u001b[49m\u001b[43m \u001b[49m\u001b[43mextent\u001b[49m\u001b[38;5;241;43m=\u001b[39;49m\u001b[43m[\u001b[49m\u001b[38;5;241;43m-\u001b[39;49m\u001b[38;5;241;43m5\u001b[39;49m\u001b[43m,\u001b[49m\u001b[43m \u001b[49m\u001b[38;5;241;43m5\u001b[39;49m\u001b[43m,\u001b[49m\u001b[43m \u001b[49m\u001b[38;5;241;43m-\u001b[39;49m\u001b[38;5;241;43m5\u001b[39;49m\u001b[43m,\u001b[49m\u001b[43m \u001b[49m\u001b[38;5;241;43m5\u001b[39;49m\u001b[43m]\u001b[49m\u001b[43m,\u001b[49m\u001b[43m \u001b[49m\u001b[43morigin\u001b[49m\u001b[38;5;241;43m=\u001b[39;49m\u001b[38;5;124;43m'\u001b[39;49m\u001b[38;5;124;43mlower\u001b[39;49m\u001b[38;5;124;43m'\u001b[39;49m\u001b[43m,\u001b[49m\u001b[43m \u001b[49m\u001b[43mcmap\u001b[49m\u001b[38;5;241;43m=\u001b[39;49m\u001b[38;5;124;43m'\u001b[39;49m\u001b[38;5;124;43mRdBu_r\u001b[39;49m\u001b[38;5;124;43m'\u001b[39;49m\u001b[43m)\u001b[49m\n\u001b[1;32m      5\u001b[0m plt\u001b[38;5;241m.\u001b[39mtitle(\u001b[38;5;124m\"\u001b[39m\u001b[38;5;124mReshaped Noisy Wigner Function\u001b[39m\u001b[38;5;124m\"\u001b[39m)\n\u001b[1;32m      6\u001b[0m plt\u001b[38;5;241m.\u001b[39mxlabel(\u001b[38;5;124m\"\u001b[39m\u001b[38;5;124mx\u001b[39m\u001b[38;5;124m\"\u001b[39m)\n",
      "File \u001b[0;32m/opt/conda/lib/python3.11/site-packages/matplotlib/pyplot.py:3590\u001b[0m, in \u001b[0;36mimshow\u001b[0;34m(X, cmap, norm, aspect, interpolation, alpha, vmin, vmax, colorizer, origin, extent, interpolation_stage, filternorm, filterrad, resample, url, data, **kwargs)\u001b[0m\n\u001b[1;32m   3568\u001b[0m \u001b[38;5;129m@_copy_docstring_and_deprecators\u001b[39m(Axes\u001b[38;5;241m.\u001b[39mimshow)\n\u001b[1;32m   3569\u001b[0m \u001b[38;5;28;01mdef\u001b[39;00m \u001b[38;5;21mimshow\u001b[39m(\n\u001b[1;32m   3570\u001b[0m     X: ArrayLike \u001b[38;5;241m|\u001b[39m PIL\u001b[38;5;241m.\u001b[39mImage\u001b[38;5;241m.\u001b[39mImage,\n\u001b[0;32m   (...)\u001b[0m\n\u001b[1;32m   3588\u001b[0m     \u001b[38;5;241m*\u001b[39m\u001b[38;5;241m*\u001b[39mkwargs,\n\u001b[1;32m   3589\u001b[0m ) \u001b[38;5;241m-\u001b[39m\u001b[38;5;241m>\u001b[39m AxesImage:\n\u001b[0;32m-> 3590\u001b[0m     __ret \u001b[38;5;241m=\u001b[39m \u001b[43mgca\u001b[49m\u001b[43m(\u001b[49m\u001b[43m)\u001b[49m\u001b[38;5;241;43m.\u001b[39;49m\u001b[43mimshow\u001b[49m\u001b[43m(\u001b[49m\n\u001b[1;32m   3591\u001b[0m \u001b[43m        \u001b[49m\u001b[43mX\u001b[49m\u001b[43m,\u001b[49m\n\u001b[1;32m   3592\u001b[0m \u001b[43m        \u001b[49m\u001b[43mcmap\u001b[49m\u001b[38;5;241;43m=\u001b[39;49m\u001b[43mcmap\u001b[49m\u001b[43m,\u001b[49m\n\u001b[1;32m   3593\u001b[0m \u001b[43m        \u001b[49m\u001b[43mnorm\u001b[49m\u001b[38;5;241;43m=\u001b[39;49m\u001b[43mnorm\u001b[49m\u001b[43m,\u001b[49m\n\u001b[1;32m   3594\u001b[0m \u001b[43m        \u001b[49m\u001b[43maspect\u001b[49m\u001b[38;5;241;43m=\u001b[39;49m\u001b[43maspect\u001b[49m\u001b[43m,\u001b[49m\n\u001b[1;32m   3595\u001b[0m \u001b[43m        \u001b[49m\u001b[43minterpolation\u001b[49m\u001b[38;5;241;43m=\u001b[39;49m\u001b[43minterpolation\u001b[49m\u001b[43m,\u001b[49m\n\u001b[1;32m   3596\u001b[0m \u001b[43m        \u001b[49m\u001b[43malpha\u001b[49m\u001b[38;5;241;43m=\u001b[39;49m\u001b[43malpha\u001b[49m\u001b[43m,\u001b[49m\n\u001b[1;32m   3597\u001b[0m \u001b[43m        \u001b[49m\u001b[43mvmin\u001b[49m\u001b[38;5;241;43m=\u001b[39;49m\u001b[43mvmin\u001b[49m\u001b[43m,\u001b[49m\n\u001b[1;32m   3598\u001b[0m \u001b[43m        \u001b[49m\u001b[43mvmax\u001b[49m\u001b[38;5;241;43m=\u001b[39;49m\u001b[43mvmax\u001b[49m\u001b[43m,\u001b[49m\n\u001b[1;32m   3599\u001b[0m \u001b[43m        \u001b[49m\u001b[43mcolorizer\u001b[49m\u001b[38;5;241;43m=\u001b[39;49m\u001b[43mcolorizer\u001b[49m\u001b[43m,\u001b[49m\n\u001b[1;32m   3600\u001b[0m \u001b[43m        \u001b[49m\u001b[43morigin\u001b[49m\u001b[38;5;241;43m=\u001b[39;49m\u001b[43morigin\u001b[49m\u001b[43m,\u001b[49m\n\u001b[1;32m   3601\u001b[0m \u001b[43m        \u001b[49m\u001b[43mextent\u001b[49m\u001b[38;5;241;43m=\u001b[39;49m\u001b[43mextent\u001b[49m\u001b[43m,\u001b[49m\n\u001b[1;32m   3602\u001b[0m \u001b[43m        \u001b[49m\u001b[43minterpolation_stage\u001b[49m\u001b[38;5;241;43m=\u001b[39;49m\u001b[43minterpolation_stage\u001b[49m\u001b[43m,\u001b[49m\n\u001b[1;32m   3603\u001b[0m \u001b[43m        \u001b[49m\u001b[43mfilternorm\u001b[49m\u001b[38;5;241;43m=\u001b[39;49m\u001b[43mfilternorm\u001b[49m\u001b[43m,\u001b[49m\n\u001b[1;32m   3604\u001b[0m \u001b[43m        \u001b[49m\u001b[43mfilterrad\u001b[49m\u001b[38;5;241;43m=\u001b[39;49m\u001b[43mfilterrad\u001b[49m\u001b[43m,\u001b[49m\n\u001b[1;32m   3605\u001b[0m \u001b[43m        \u001b[49m\u001b[43mresample\u001b[49m\u001b[38;5;241;43m=\u001b[39;49m\u001b[43mresample\u001b[49m\u001b[43m,\u001b[49m\n\u001b[1;32m   3606\u001b[0m \u001b[43m        \u001b[49m\u001b[43murl\u001b[49m\u001b[38;5;241;43m=\u001b[39;49m\u001b[43murl\u001b[49m\u001b[43m,\u001b[49m\n\u001b[1;32m   3607\u001b[0m \u001b[43m        \u001b[49m\u001b[38;5;241;43m*\u001b[39;49m\u001b[38;5;241;43m*\u001b[39;49m\u001b[43m(\u001b[49m\u001b[43m{\u001b[49m\u001b[38;5;124;43m\"\u001b[39;49m\u001b[38;5;124;43mdata\u001b[39;49m\u001b[38;5;124;43m\"\u001b[39;49m\u001b[43m:\u001b[49m\u001b[43m \u001b[49m\u001b[43mdata\u001b[49m\u001b[43m}\u001b[49m\u001b[43m \u001b[49m\u001b[38;5;28;43;01mif\u001b[39;49;00m\u001b[43m \u001b[49m\u001b[43mdata\u001b[49m\u001b[43m \u001b[49m\u001b[38;5;129;43;01mis\u001b[39;49;00m\u001b[43m \u001b[49m\u001b[38;5;129;43;01mnot\u001b[39;49;00m\u001b[43m \u001b[49m\u001b[38;5;28;43;01mNone\u001b[39;49;00m\u001b[43m \u001b[49m\u001b[38;5;28;43;01melse\u001b[39;49;00m\u001b[43m \u001b[49m\u001b[43m{\u001b[49m\u001b[43m}\u001b[49m\u001b[43m)\u001b[49m\u001b[43m,\u001b[49m\n\u001b[1;32m   3608\u001b[0m \u001b[43m        \u001b[49m\u001b[38;5;241;43m*\u001b[39;49m\u001b[38;5;241;43m*\u001b[39;49m\u001b[43mkwargs\u001b[49m\u001b[43m,\u001b[49m\n\u001b[1;32m   3609\u001b[0m \u001b[43m    \u001b[49m\u001b[43m)\u001b[49m\n\u001b[1;32m   3610\u001b[0m     sci(__ret)\n\u001b[1;32m   3611\u001b[0m     \u001b[38;5;28;01mreturn\u001b[39;00m __ret\n",
      "File \u001b[0;32m/opt/conda/lib/python3.11/site-packages/matplotlib/__init__.py:1521\u001b[0m, in \u001b[0;36m_preprocess_data.<locals>.inner\u001b[0;34m(ax, data, *args, **kwargs)\u001b[0m\n\u001b[1;32m   1518\u001b[0m \u001b[38;5;129m@functools\u001b[39m\u001b[38;5;241m.\u001b[39mwraps(func)\n\u001b[1;32m   1519\u001b[0m \u001b[38;5;28;01mdef\u001b[39;00m \u001b[38;5;21minner\u001b[39m(ax, \u001b[38;5;241m*\u001b[39margs, data\u001b[38;5;241m=\u001b[39m\u001b[38;5;28;01mNone\u001b[39;00m, \u001b[38;5;241m*\u001b[39m\u001b[38;5;241m*\u001b[39mkwargs):\n\u001b[1;32m   1520\u001b[0m     \u001b[38;5;28;01mif\u001b[39;00m data \u001b[38;5;129;01mis\u001b[39;00m \u001b[38;5;28;01mNone\u001b[39;00m:\n\u001b[0;32m-> 1521\u001b[0m         \u001b[38;5;28;01mreturn\u001b[39;00m \u001b[43mfunc\u001b[49m\u001b[43m(\u001b[49m\n\u001b[1;32m   1522\u001b[0m \u001b[43m            \u001b[49m\u001b[43max\u001b[49m\u001b[43m,\u001b[49m\n\u001b[1;32m   1523\u001b[0m \u001b[43m            \u001b[49m\u001b[38;5;241;43m*\u001b[39;49m\u001b[38;5;28;43mmap\u001b[39;49m\u001b[43m(\u001b[49m\u001b[43mcbook\u001b[49m\u001b[38;5;241;43m.\u001b[39;49m\u001b[43msanitize_sequence\u001b[49m\u001b[43m,\u001b[49m\u001b[43m \u001b[49m\u001b[43margs\u001b[49m\u001b[43m)\u001b[49m\u001b[43m,\u001b[49m\n\u001b[1;32m   1524\u001b[0m \u001b[43m            \u001b[49m\u001b[38;5;241;43m*\u001b[39;49m\u001b[38;5;241;43m*\u001b[39;49m\u001b[43m{\u001b[49m\u001b[43mk\u001b[49m\u001b[43m:\u001b[49m\u001b[43m \u001b[49m\u001b[43mcbook\u001b[49m\u001b[38;5;241;43m.\u001b[39;49m\u001b[43msanitize_sequence\u001b[49m\u001b[43m(\u001b[49m\u001b[43mv\u001b[49m\u001b[43m)\u001b[49m\u001b[43m \u001b[49m\u001b[38;5;28;43;01mfor\u001b[39;49;00m\u001b[43m \u001b[49m\u001b[43mk\u001b[49m\u001b[43m,\u001b[49m\u001b[43m \u001b[49m\u001b[43mv\u001b[49m\u001b[43m \u001b[49m\u001b[38;5;129;43;01min\u001b[39;49;00m\u001b[43m \u001b[49m\u001b[43mkwargs\u001b[49m\u001b[38;5;241;43m.\u001b[39;49m\u001b[43mitems\u001b[49m\u001b[43m(\u001b[49m\u001b[43m)\u001b[49m\u001b[43m}\u001b[49m\u001b[43m)\u001b[49m\n\u001b[1;32m   1526\u001b[0m     bound \u001b[38;5;241m=\u001b[39m new_sig\u001b[38;5;241m.\u001b[39mbind(ax, \u001b[38;5;241m*\u001b[39margs, \u001b[38;5;241m*\u001b[39m\u001b[38;5;241m*\u001b[39mkwargs)\n\u001b[1;32m   1527\u001b[0m     auto_label \u001b[38;5;241m=\u001b[39m (bound\u001b[38;5;241m.\u001b[39marguments\u001b[38;5;241m.\u001b[39mget(label_namer)\n\u001b[1;32m   1528\u001b[0m                   \u001b[38;5;129;01mor\u001b[39;00m bound\u001b[38;5;241m.\u001b[39mkwargs\u001b[38;5;241m.\u001b[39mget(label_namer))\n",
      "File \u001b[0;32m/opt/conda/lib/python3.11/site-packages/matplotlib/axes/_axes.py:5976\u001b[0m, in \u001b[0;36mAxes.imshow\u001b[0;34m(self, X, cmap, norm, aspect, interpolation, alpha, vmin, vmax, colorizer, origin, extent, interpolation_stage, filternorm, filterrad, resample, url, **kwargs)\u001b[0m\n\u001b[1;32m   5973\u001b[0m \u001b[38;5;28;01mif\u001b[39;00m aspect \u001b[38;5;129;01mis\u001b[39;00m \u001b[38;5;129;01mnot\u001b[39;00m \u001b[38;5;28;01mNone\u001b[39;00m:\n\u001b[1;32m   5974\u001b[0m     \u001b[38;5;28mself\u001b[39m\u001b[38;5;241m.\u001b[39mset_aspect(aspect)\n\u001b[0;32m-> 5976\u001b[0m \u001b[43mim\u001b[49m\u001b[38;5;241;43m.\u001b[39;49m\u001b[43mset_data\u001b[49m\u001b[43m(\u001b[49m\u001b[43mX\u001b[49m\u001b[43m)\u001b[49m\n\u001b[1;32m   5977\u001b[0m im\u001b[38;5;241m.\u001b[39mset_alpha(alpha)\n\u001b[1;32m   5978\u001b[0m \u001b[38;5;28;01mif\u001b[39;00m im\u001b[38;5;241m.\u001b[39mget_clip_path() \u001b[38;5;129;01mis\u001b[39;00m \u001b[38;5;28;01mNone\u001b[39;00m:\n\u001b[1;32m   5979\u001b[0m     \u001b[38;5;66;03m# image does not already have clipping set, clip to Axes patch\u001b[39;00m\n",
      "File \u001b[0;32m/opt/conda/lib/python3.11/site-packages/matplotlib/image.py:685\u001b[0m, in \u001b[0;36m_ImageBase.set_data\u001b[0;34m(self, A)\u001b[0m\n\u001b[1;32m    683\u001b[0m \u001b[38;5;28;01mif\u001b[39;00m \u001b[38;5;28misinstance\u001b[39m(A, PIL\u001b[38;5;241m.\u001b[39mImage\u001b[38;5;241m.\u001b[39mImage):\n\u001b[1;32m    684\u001b[0m     A \u001b[38;5;241m=\u001b[39m pil_to_array(A)  \u001b[38;5;66;03m# Needed e.g. to apply png palette.\u001b[39;00m\n\u001b[0;32m--> 685\u001b[0m \u001b[38;5;28mself\u001b[39m\u001b[38;5;241m.\u001b[39m_A \u001b[38;5;241m=\u001b[39m \u001b[38;5;28;43mself\u001b[39;49m\u001b[38;5;241;43m.\u001b[39;49m\u001b[43m_normalize_image_array\u001b[49m\u001b[43m(\u001b[49m\u001b[43mA\u001b[49m\u001b[43m)\u001b[49m\n\u001b[1;32m    686\u001b[0m \u001b[38;5;28mself\u001b[39m\u001b[38;5;241m.\u001b[39m_imcache \u001b[38;5;241m=\u001b[39m \u001b[38;5;28;01mNone\u001b[39;00m\n\u001b[1;32m    687\u001b[0m \u001b[38;5;28mself\u001b[39m\u001b[38;5;241m.\u001b[39mstale \u001b[38;5;241m=\u001b[39m \u001b[38;5;28;01mTrue\u001b[39;00m\n",
      "File \u001b[0;32m/opt/conda/lib/python3.11/site-packages/matplotlib/image.py:653\u001b[0m, in \u001b[0;36m_ImageBase._normalize_image_array\u001b[0;34m(A)\u001b[0m\n\u001b[1;32m    651\u001b[0m     A \u001b[38;5;241m=\u001b[39m A\u001b[38;5;241m.\u001b[39msqueeze(\u001b[38;5;241m-\u001b[39m\u001b[38;5;241m1\u001b[39m)  \u001b[38;5;66;03m# If just (M, N, 1), assume scalar and apply colormap.\u001b[39;00m\n\u001b[1;32m    652\u001b[0m \u001b[38;5;28;01mif\u001b[39;00m \u001b[38;5;129;01mnot\u001b[39;00m (A\u001b[38;5;241m.\u001b[39mndim \u001b[38;5;241m==\u001b[39m \u001b[38;5;241m2\u001b[39m \u001b[38;5;129;01mor\u001b[39;00m A\u001b[38;5;241m.\u001b[39mndim \u001b[38;5;241m==\u001b[39m \u001b[38;5;241m3\u001b[39m \u001b[38;5;129;01mand\u001b[39;00m A\u001b[38;5;241m.\u001b[39mshape[\u001b[38;5;241m-\u001b[39m\u001b[38;5;241m1\u001b[39m] \u001b[38;5;129;01min\u001b[39;00m [\u001b[38;5;241m3\u001b[39m, \u001b[38;5;241m4\u001b[39m]):\n\u001b[0;32m--> 653\u001b[0m     \u001b[38;5;28;01mraise\u001b[39;00m \u001b[38;5;167;01mTypeError\u001b[39;00m(\u001b[38;5;124mf\u001b[39m\u001b[38;5;124m\"\u001b[39m\u001b[38;5;124mInvalid shape \u001b[39m\u001b[38;5;132;01m{\u001b[39;00mA\u001b[38;5;241m.\u001b[39mshape\u001b[38;5;132;01m}\u001b[39;00m\u001b[38;5;124m for image data\u001b[39m\u001b[38;5;124m\"\u001b[39m)\n\u001b[1;32m    654\u001b[0m \u001b[38;5;28;01mif\u001b[39;00m A\u001b[38;5;241m.\u001b[39mndim \u001b[38;5;241m==\u001b[39m \u001b[38;5;241m3\u001b[39m:\n\u001b[1;32m    655\u001b[0m     \u001b[38;5;66;03m# If the input data has values outside the valid range (after\u001b[39;00m\n\u001b[1;32m    656\u001b[0m     \u001b[38;5;66;03m# normalisation), we issue a warning and then clip X to the bounds\u001b[39;00m\n\u001b[1;32m    657\u001b[0m     \u001b[38;5;66;03m# - otherwise casting wraps extreme values, hiding outliers and\u001b[39;00m\n\u001b[1;32m    658\u001b[0m     \u001b[38;5;66;03m# making reliable interpretation impossible.\u001b[39;00m\n\u001b[1;32m    659\u001b[0m     high \u001b[38;5;241m=\u001b[39m \u001b[38;5;241m255\u001b[39m \u001b[38;5;28;01mif\u001b[39;00m np\u001b[38;5;241m.\u001b[39missubdtype(A\u001b[38;5;241m.\u001b[39mdtype, np\u001b[38;5;241m.\u001b[39minteger) \u001b[38;5;28;01melse\u001b[39;00m \u001b[38;5;241m1\u001b[39m\n",
      "\u001b[0;31mTypeError\u001b[0m: Invalid shape (1000,) for image data"
     ]
    },
    {
     "data": {
      "image/png": "[encoded data removed]",
      "text/plain": [
       "<Figure size 600x500 with 1 Axes>"
      ]
     },
     "metadata": {},
     "output_type": "display_data"
    }
   ],
   "source": [
    "import matplotlib.pyplot as plt\n",
    "\n",
    "plt.figure(figsize=(6, 5))\n",
    "plt.imshow(W_noisy, extent=[-5, 5, -5, 5], origin='lower', cmap='RdBu_r')\n",
    "plt.title(\"Reshaped Noisy Wigner Function\")\n",
    "plt.xlabel(\"x\")\n",
    "plt.ylabel(\"p\")\n",
    "plt.colorbar()\n",
    "plt.show()\n"
   ]
  },
  {
   "cell_type": "code",
   "execution_count": 12,
   "id": "797ea818-fc73-4ac1-8cb5-1da3961728a3",
   "metadata": {},
   "outputs": [
    {
     "name": "stdout",
     "output_type": "stream",
     "text": [
      "Initial W_noisy shape: (1000,)\n",
      "Total elements in W_noisy: 1000\n",
      "Reshaped W_noisy to: (25, 40)\n",
      "Phase-space grid dimensions: (25, 40)\n"
     ]
    },
    {
     "data": {
      "image/png": "[encoded data removed]",
      "text/plain": [
       "<Figure size 600x500 with 2 Axes>"
      ]
     },
     "metadata": {},
     "output_type": "display_data"
    }
   ],
   "source": [
    "import numpy as np\n",
    "import pickle\n",
    "import matplotlib.pyplot as plt\n",
    "\n",
    "file_path = \"noisy_wigner_0.pickle\"\n",
    "with open(file_path, \"rb\") as f:\n",
    "    loaded_data = pickle.load(f)\n",
    "\n",
    "# Assume loaded_data is either a tuple or the array itself\n",
    "if isinstance(loaded_data, tuple):\n",
    "    # You might need to inspect the tuple contents if there are multiple elements\n",
    "    W_noisy = np.array(loaded_data[0])\n",
    "else:\n",
    "    W_noisy = np.array(loaded_data)\n",
    "\n",
    "print(\"Initial W_noisy shape:\", W_noisy.shape)\n",
    "\n",
    "# Check total number of elements\n",
    "print(\"Total elements in W_noisy:\", W_noisy.size)\n",
    "\n",
    "# Now reshape the 1D array to the expected shape, for example, (25, 40)\n",
    "expected_shape = (25, 40)\n",
    "if W_noisy.size == np.prod(expected_shape):\n",
    "    W_noisy = W_noisy.reshape(expected_shape)\n",
    "    print(\"Reshaped W_noisy to:\", W_noisy.shape)\n",
    "else:\n",
    "    print(\"Warning: the total number of elements does not match the expected shape.\")\n",
    "\n",
    "# Setup phase-space grid according to the reshaped dimensions.\n",
    "x = np.linspace(-5, 5, expected_shape[0])\n",
    "y = np.linspace(-5, 5, expected_shape[1])\n",
    "print(\"Phase-space grid dimensions:\", expected_shape)\n",
    "\n",
    "# Plot the reshaped Wigner function\n",
    "plt.figure(figsize=(6, 5))\n",
    "plt.imshow(W_noisy, extent=[x[0], x[-1], y[0], y[-1]], origin='lower', cmap='RdBu_r')\n",
    "plt.title(\"Reshaped Noisy Wigner Function\")\n",
    "plt.xlabel(\"x\")\n",
    "plt.ylabel(\"p\")\n",
    "plt.colorbar()\n",
    "plt.show()\n"
   ]
  },
  {
   "cell_type": "code",
   "execution_count": 14,
   "id": "4aa94829-9132-4dce-aa09-6c71c1390f4b",
   "metadata": {},
   "outputs": [
    {
     "name": "stdout",
     "output_type": "stream",
     "text": [
      "Initial W_noisy shape: (1000,)\n",
      "Total elements in W_noisy: 1000\n",
      "Initial W_ref shape: (50, 50)\n",
      "Total elements in W_ref: 2500\n",
      "Reshaped W_noisy to: (25, 40)\n",
      "W_ref already has dimensions: (50, 50)\n",
      "Phase-space grid dimensions: (25, 40)\n"
     ]
    },
    {
     "ename": "ValueError",
     "evalue": "operands could not be broadcast together with shapes (25,40) (50,50) ",
     "output_type": "error",
     "traceback": [
      "\u001b[0;31m---------------------------------------------------------------------------\u001b[0m",
      "\u001b[0;31mValueError\u001b[0m                                Traceback (most recent call last)",
      "Cell \u001b[0;32mIn[14], line 62\u001b[0m\n\u001b[1;32m     59\u001b[0m \u001b[38;5;28mprint\u001b[39m(\u001b[38;5;124m\"\u001b[39m\u001b[38;5;124mPhase-space grid dimensions:\u001b[39m\u001b[38;5;124m\"\u001b[39m, (W_noisy\u001b[38;5;241m.\u001b[39mshape[\u001b[38;5;241m0\u001b[39m], W_noisy\u001b[38;5;241m.\u001b[39mshape[\u001b[38;5;241m1\u001b[39m]))\n\u001b[1;32m     61\u001b[0m \u001b[38;5;66;03m# --- Compute a Numerical Metric (Mean Squared Error) ---\u001b[39;00m\n\u001b[0;32m---> 62\u001b[0m mse \u001b[38;5;241m=\u001b[39m np\u001b[38;5;241m.\u001b[39mmean((\u001b[43mW_noisy\u001b[49m\u001b[43m \u001b[49m\u001b[38;5;241;43m-\u001b[39;49m\u001b[43m \u001b[49m\u001b[43mW_ref\u001b[49m)\u001b[38;5;241m*\u001b[39m\u001b[38;5;241m*\u001b[39m\u001b[38;5;241m2\u001b[39m)\n\u001b[1;32m     63\u001b[0m \u001b[38;5;28mprint\u001b[39m(\u001b[38;5;124m\"\u001b[39m\u001b[38;5;124mMean Squared Error (MSE) between noisy and reference Wigner functions:\u001b[39m\u001b[38;5;124m\"\u001b[39m, mse)\n\u001b[1;32m     65\u001b[0m \u001b[38;5;66;03m# --- Plot the Wigner Functions Side by Side for Visual Comparison ---\u001b[39;00m\n",
      "\u001b[0;31mValueError\u001b[0m: operands could not be broadcast together with shapes (25,40) (50,50) "
     ]
    }
   ],
   "source": [
    "import numpy as np\n",
    "import pickle\n",
    "import matplotlib.pyplot as plt\n",
    "\n",
    "# --- Load the Noisy Wigner Function ---\n",
    "noisy_file = \"noisy_wigner_0.pickle\"  # Update with the correct file path\n",
    "with open(noisy_file, \"rb\") as f:\n",
    "    loaded_noisy = pickle.load(f)\n",
    "\n",
    "# If the loaded data is a tuple, assume its first element holds the noisy Wigner.\n",
    "if isinstance(loaded_noisy, tuple):\n",
    "    W_noisy = np.array(loaded_noisy[0])\n",
    "else:\n",
    "    W_noisy = np.array(loaded_noisy)\n",
    "\n",
    "print(\"Initial W_noisy shape:\", W_noisy.shape)\n",
    "print(\"Total elements in W_noisy:\", W_noisy.size)\n",
    "\n",
    "# --- Load the Reference (Clean) Quantum State Wigner Function ---\n",
    "ref_file = \"quantum_state_0.pickle\"  # Update with the correct file path\n",
    "with open(ref_file, \"rb\") as f:\n",
    "    loaded_ref = pickle.load(f)\n",
    "\n",
    "if isinstance(loaded_ref, tuple):\n",
    "    W_ref = np.array(loaded_ref[0])\n",
    "else:\n",
    "    W_ref = np.array(loaded_ref)\n",
    "\n",
    "print(\"Initial W_ref shape:\", W_ref.shape)\n",
    "print(\"Total elements in W_ref:\", W_ref.size)\n",
    "\n",
    "# --- Reshape Data if It Is 1D ---\n",
    "# For this example, we expect a grid shape of (25, 40). Adjust if needed.\n",
    "expected_shape = (25, 40)\n",
    "if W_noisy.ndim == 1:\n",
    "    if W_noisy.size == np.prod(expected_shape):\n",
    "        W_noisy = W_noisy.reshape(expected_shape)\n",
    "        print(\"Reshaped W_noisy to:\", W_noisy.shape)\n",
    "    else:\n",
    "        print(\"Warning: W_noisy size does not match expected shape:\", np.prod(expected_shape))\n",
    "else:\n",
    "    print(\"W_noisy already has dimensions:\", W_noisy.shape)\n",
    "\n",
    "if W_ref.ndim == 1:\n",
    "    if W_ref.size == np.prod(expected_shape):\n",
    "        W_ref = W_ref.reshape(expected_shape)\n",
    "        print(\"Reshaped W_ref to:\", W_ref.shape)\n",
    "    else:\n",
    "        print(\"Warning: W_ref size does not match expected shape:\", np.prod(expected_shape))\n",
    "else:\n",
    "    print(\"W_ref already has dimensions:\", W_ref.shape)\n",
    "\n",
    "# --- Setup the Phase-Space Grid ---\n",
    "# Using the grid boundaries -5 to 5 for both x and p.\n",
    "x = np.linspace(-5, 5, W_noisy.shape[0])\n",
    "y = np.linspace(-5, 5, W_noisy.shape[1])\n",
    "dx = x[1] - x[0]\n",
    "dy = y[1] - y[0]\n",
    "print(\"Phase-space grid dimensions:\", (W_noisy.shape[0], W_noisy.shape[1]))\n",
    "\n",
    "# --- Compute a Numerical Metric (Mean Squared Error) ---\n",
    "mse = np.mean((W_noisy - W_ref)**2)\n",
    "print(\"Mean Squared Error (MSE) between noisy and reference Wigner functions:\", mse)\n",
    "\n",
    "# --- Plot the Wigner Functions Side by Side for Visual Comparison ---\n",
    "plt.figure(figsize=(12, 5))\n",
    "\n",
    "plt.subplot(1, 2, 1)\n",
    "plt.imshow(W_noisy, extent=[x[0], x[-1], y[0], y[-1]], origin='lower', cmap='RdBu_r')\n",
    "plt.title(\"Noisy Wigner Function\")\n",
    "plt.xlabel(\"x\")\n",
    "plt.ylabel(\"p\")\n",
    "plt.colorbar()\n",
    "\n",
    "plt.subplot(1, 2, 2)\n",
    "plt.imshow(W_ref, extent=[x[0], x[-1], y[0], y[-1]], origin='lower', cmap='RdBu_r')\n",
    "plt.title(\"Reference (Clean) Wigner Function\")\n",
    "plt.xlabel(\"x\")\n",
    "plt.ylabel(\"p\")\n",
    "plt.colorbar()\n",
    "\n",
    "plt.tight_layout()\n",
    "plt.show()\n"
   ]
  },
  {
   "cell_type": "code",
   "execution_count": 15,
   "id": "919dca76-f9b9-4916-855e-761dd53d0845",
   "metadata": {},
   "outputs": [
    {
     "name": "stdout",
     "output_type": "stream",
     "text": [
      "Fidelity between rho and rho_ref: 0.13231263618799227\n"
     ]
    }
   ],
   "source": [
    "import numpy as np\n",
    "from scipy.linalg import sqrtm\n",
    "\n",
    "def fidelity(rho, rho_ref):\n",
    "    sqrt_rho_ref = sqrtm(rho_ref)\n",
    "    intermediate = sqrt_rho_ref @ rho @ sqrt_rho_ref\n",
    "    sqrt_intermediate = sqrtm(intermediate)\n",
    "    fidelity_value = np.trace(sqrt_intermediate)\n",
    "    return np.real(fidelity_value)**2\n",
    "\n",
    "# Example: assume both are 10x10 density matrices.\n",
    "rho = np.random.rand(10,10) + 1j*np.random.rand(10,10)\n",
    "rho = (rho + rho.conjugate().T) / 2  # Make it Hermitian.\n",
    "rho = rho / np.trace(rho)\n",
    "\n",
    "rho_ref = np.zeros((10,10), dtype=complex)\n",
    "rho_ref[0,0] = 1\n",
    "\n",
    "F = fidelity(rho, rho_ref)\n",
    "print(\"Fidelity between rho and rho_ref:\", F)\n"
   ]
  },
  {
   "cell_type": "code",
   "execution_count": null,
   "id": "7a135e8c-fb6b-4f8b-a46b-bf0a9d1a2512",
   "metadata": {},
   "outputs": [],
   "source": []
  }
 ],
 "metadata": {
  "kernelspec": {
   "display_name": "Python 3 [Default]",
   "language": "python",
   "name": "python3"
  },
  "language_info": {
   "codemirror_mode": {
    "name": "ipython",
    "version": 3
   },
   "file_extension": ".py",
   "mimetype": "text/x-python",
   "name": "python",
   "nbconvert_exporter": "python",
   "pygments_lexer": "ipython3",
   "version": "3.11.9"
  }
 },
 "nbformat": 4,
 "nbformat_minor": 5
}
